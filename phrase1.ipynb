{
 "cells": [
  {
   "cell_type": "markdown",
   "id": "8717fedd",
   "metadata": {},
   "source": [
    "## Introduction to Numpy"
   ]
  },
  {
   "cell_type": "code",
   "id": "75e5db21",
   "metadata": {
    "jupyter": {
     "is_executing": true
    }
   },
   "source": [
    "import numpy as np\n",
    "\n",
    "arr_1d = np.array([1, 2, 3])\n",
    "print(\"one DImensional array:\", arr_1d)\n",
    "\n",
    "arr_2d = np.array([[1, 2, 3], [4, 5, 6]])\n",
    "print(\"two DImensional array:\", arr_2d)\n"
   ],
   "outputs": [],
   "execution_count": null
  },
  {
   "cell_type": "markdown",
   "id": "25cd4094",
   "metadata": {},
   "source": [
    "### List Vs Numpy Array"
   ]
  },
  {
   "cell_type": "code",
   "execution_count": null,
   "id": "3db042cb",
   "metadata": {},
   "outputs": [],
   "source": [
    "# Python list multiplication\n",
    "pyt_list = [1, 2, 3]\n",
    "print(\"python list multiplication:\", pyt_list * 2)\n",
    "\n",
    "# Numpy array multiplication\n",
    "np_arr = np.array([1, 2, 3])\n",
    "print(\"numpy array multiplication:\", np_arr * 2)\n"
   ]
  },
  {
   "cell_type": "code",
   "execution_count": null,
   "id": "de9ac9ee",
   "metadata": {},
   "outputs": [],
   "source": [
    "import time\n",
    "\n",
    "start_time = time.time()\n",
    "pyt_list = [i * 2 for i in range(1000000)]\n",
    "print(\"Python list multiplication time :\", time.time() - start_time, \"seconds\")\n",
    "\n",
    "start_time = time.time()\n",
    "np_arr = (\n",
    "    np.arange(1000000) * 2\n",
    ")  # arange is used to create numpy array of specific range\n",
    "print(\"Numpy array multiplication time :\", time.time() - start_time, \"seconds\")\n"
   ]
  },
  {
   "cell_type": "markdown",
   "id": "ee7faa1d",
   "metadata": {},
   "source": [
    "### Creating Arrays from Scratch"
   ]
  },
  {
   "cell_type": "code",
   "execution_count": null,
   "id": "b8e0653b",
   "metadata": {},
   "outputs": [],
   "source": [
    "# Creating array of zeros\n",
    "zeros_array = np.zeros((3, 4))\n",
    "print(\"Zeros array: \\n\", zeros_array)\n",
    "\n",
    "# Creating array of ones\n",
    "ones_array = np.ones([3, 2])\n",
    "print(\"Ones array: \\n\", ones_array)\n",
    "\n",
    "# Creating array of specific value\n",
    "full_array = np.full((3, 2), 7)\n",
    "print(\"Full array: \\n\", full_array)\n",
    "\n",
    "# Creating array of random numbers\n",
    "random_array = np.random.randint(1, 10, (3, 2))\n",
    "print(\"Random array: \\n\", random_array)\n",
    "\n",
    "# Creating array of sequence of numbers\n",
    "seq_array = np.arange(1, 10, 2)\n",
    "print(\"Sequence array: \\n\", seq_array)\n",
    "\n",
    "# Creating array of evenly spaced numbers\n",
    "even_array = np.linspace(0, 1, 5)\n",
    "print(\"Evenly spaced array: \\n\", even_array)\n"
   ]
  },
  {
   "cell_type": "markdown",
   "id": "17fbaf42",
   "metadata": {},
   "source": [
    "### Vector Matrix and Tensor "
   ]
  },
  {
   "cell_type": "code",
   "execution_count": null,
   "id": "a8322cee",
   "metadata": {},
   "outputs": [],
   "source": [
    "# Vector\n",
    "vector = np.array([1, 2, 3, 4, 5])\n",
    "print(\"Vector: \\n\", vector)\n",
    "\n",
    "# Matrix\n",
    "matrix = np.array([[1, 2, 3], [4, 5, 6], [7, 8, 9]])\n",
    "print(\"Matrix: \\n\", matrix)\n",
    "\n",
    "# Tensor\n",
    "tensor = np.array(\n",
    "    [[[1, 2, 3], [4, 5, 6], [7, 8, 9]], [[1, 2, 3], [4, 5, 6], [7, 8, 9]]]\n",
    ")\n",
    "print(\"Tensor: \\n\", tensor)\n",
    "\n",
    "# Identity matrix\n",
    "identity_matrix = np.eye(3)\n",
    "print(\"Identity matrix: \\n\", identity_matrix)\n",
    "\n",
    "# Diagonal matrix\n",
    "diagonal_matrix = np.diag([1, 2, 3, 4])\n",
    "print(\"Diagonal matrix: \\n\", diagonal_matrix)\n",
    "\n"
   ]
  },
  {
   "cell_type": "markdown",
   "id": "2a6d9c4d",
   "metadata": {},
   "source": [
    "### Array Properties"
   ]
  },
  {
   "cell_type": "code",
   "execution_count": null,
   "id": "ccc5144b",
   "metadata": {},
   "outputs": [],
   "source": [
    "arr = np.array([[1, 2, 3], [4, 5, 6], [7, 8, 9], [10, 11, 12]])\n",
    "\n",
    "print(\"Shape of array: \\n\", arr.shape)  # Returns the dimensions of the array\n",
    "print(\n",
    "    \"Size of array: \\n\", arr.size\n",
    ")  # Returns the total number of elements in the array\n",
    "print(\"Data type of array: \\n\", arr.dtype)  # Returns the data type of the array\n",
    "print(\n",
    "    \"Number of dimensions of array: \\n\", arr.ndim\n",
    ")  # Returns the number of dimensions of the array\n"
   ]
  },
  {
   "cell_type": "markdown",
   "id": "75cfefa9",
   "metadata": {},
   "source": [
    "### Array Reshaping "
   ]
  },
  {
   "cell_type": "code",
   "execution_count": null,
   "id": "a9ba1eb9",
   "metadata": {},
   "outputs": [],
   "source": [
    "arr = np.arange(1, 13)\n",
    "print(\"Original array: \\n\", arr)\n",
    "\n",
    "reshaped = arr.reshape(3, 4)\n",
    "print(\"Reshaped array: \\n\", reshaped)\n",
    "\n",
    "# its returns a copy of the array\n",
    "flattened = reshaped.flatten()\n",
    "print(\"Flattened array: \\n\", flattened)\n",
    "\n",
    "# Its returns the view/original array insted of a copy\n",
    "raveled = reshaped.ravel()\n",
    "print(\"Raveled array: \\n\", raveled)\n",
    "\n",
    "# Transpose the array\n",
    "transposed = reshaped.T\n",
    "print(\"Transposed array: \\n\", transposed)\n"
   ]
  }
 ],
 "metadata": {
  "kernelspec": {
   "display_name": ".venv",
   "language": "python",
   "name": "python3"
  },
  "language_info": {
   "codemirror_mode": {
    "name": "ipython",
    "version": 3
   },
   "file_extension": ".py",
   "mimetype": "text/x-python",
   "name": "python",
   "nbconvert_exporter": "python",
   "pygments_lexer": "ipython3",
   "version": "3.12.7"
  }
 },
 "nbformat": 4,
 "nbformat_minor": 5
}
