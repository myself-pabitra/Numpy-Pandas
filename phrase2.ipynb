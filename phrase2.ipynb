{
 "cells": [
  {
   "cell_type": "markdown",
   "id": "a481c309",
   "metadata": {},
   "source": [
    "## Numpy Array Opetaions "
   ]
  },
  {
   "cell_type": "code",
   "execution_count": null,
   "id": "a5d0c092",
   "metadata": {},
   "outputs": [],
   "source": [
    "import numpy as np\n"
   ]
  },
  {
   "cell_type": "code",
   "execution_count": null,
   "id": "075e5e1e",
   "metadata": {},
   "outputs": [],
   "source": [
    "arr = np.arange(15)\n",
    "print(\"Original array : \\n\", arr)\n",
    "\n",
    "print(\"Basic slicing :\\n \", arr[5:10])\n",
    "print(\"With step : \\n\", arr[5:10:2])\n",
    "\n",
    "print(\"Reverse : \\n\", arr[::-1])\n"
   ]
  },
  {
   "cell_type": "code",
   "execution_count": null,
   "id": "ca8bab7b",
   "metadata": {},
   "outputs": [
    {
     "name": "stdout",
     "output_type": "stream",
     "text": [
      "Secific element : \n",
      " 5\n",
      "Entire row : \n",
      " [4 5 6]\n",
      "Entire column : \n",
      " [3 6 9]\n"
     ]
    }
   ],
   "source": [
    "arr_2D = np.array([[1, 2, 3], [4, 5, 6], [7, 8, 9]])\n",
    "\n",
    "print(\"Secific element : \\n\", arr_2D[1, 1])\n",
    "print(\"Entire row : \\n\", arr_2D[1, :])\n",
    "print(\"Entire column : \\n\", arr_2D[:, 2])\n"
   ]
  },
  {
   "cell_type": "markdown",
   "id": "4208245d",
   "metadata": {},
   "source": [
    "### Sorting of Array"
   ]
  },
  {
   "cell_type": "code",
   "execution_count": null,
   "id": "7ba80b09",
   "metadata": {},
   "outputs": [
    {
     "name": "stdout",
     "output_type": "stream",
     "text": [
      "Unsorted array : \n",
      " [20 25  9 21 15 16 16 14  8 22 11  8  9  3  4]\n",
      "Sorted array : \n",
      " [ 3  4  8  8  9  9 11 14 15 16 16 20 21 22 25]\n"
     ]
    }
   ],
   "source": [
    "# unsorted_array = np.random.randint(1,30,15)\n",
    "unsorted_array = np.array([20, 25, 9, 21, 15, 16, 16, 14, 8, 22, 11, 8, 9, 3, 4])\n",
    "\n",
    "print(\"Unsorted array : \\n\", unsorted_array)\n",
    "\n",
    "sorted_array = np.sort(unsorted_array)\n",
    "\n",
    "print(\"Sorted array : \\n\", sorted_array)\n"
   ]
  },
  {
   "cell_type": "markdown",
   "id": "cbc88b6a",
   "metadata": {},
   "source": [
    "### 2D array Sorting "
   ]
  },
  {
   "cell_type": "code",
   "execution_count": null,
   "id": "e18d9bc2",
   "metadata": {},
   "outputs": [
    {
     "name": "stdout",
     "output_type": "stream",
     "text": [
      "Sort Array column wise : \n",
      " [[1 4 1]\n",
      " [3 5 2]\n",
      " [8 6 3]]\n",
      "Sort array Row Wise: \n",
      " [[1 3 4]\n",
      " [1 3 5]\n",
      " [2 6 8]]\n"
     ]
    }
   ],
   "source": [
    "array_2D_Unsorted = np.array([[1, 4, 3], [3, 5, 1], [8, 6, 2]])\n",
    "\n",
    "print(\"Sort Array column wise : \\n\", np.sort(array_2D_Unsorted, axis=0))\n",
    "print(\"Sort array Row Wise: \\n\", np.sort(array_2D_Unsorted, axis=1))\n"
   ]
  },
  {
   "cell_type": "markdown",
   "id": "e439bb81",
   "metadata": {},
   "source": [
    "### Filtering of Array"
   ]
  },
  {
   "cell_type": "code",
   "execution_count": null,
   "id": "53664480",
   "metadata": {},
   "outputs": [
    {
     "name": "stdout",
     "output_type": "stream",
     "text": [
      "Original array : \n",
      " [20 25  9 21 15 16 16 14  8 22 11  8  9  3  4]\n",
      "Even number array : \n",
      " [20 16 16 14  8 22  8  4]\n"
     ]
    }
   ],
   "source": [
    "# numbers = np.random.randint(1,25,15)\n",
    "numbers = np.array([20, 25, 9, 21, 15, 16, 16, 14, 8, 22, 11, 8, 9, 3, 4])\n",
    "\n",
    "even_numbers = numbers[numbers % 2 == 0]\n",
    "\n",
    "print(\"Original array : \\n\", numbers)\n",
    "\n",
    "print(\"Even number array : \\n\", even_numbers)\n"
   ]
  },
  {
   "cell_type": "markdown",
   "id": "fab81c2c",
   "metadata": {},
   "source": [
    "### Filter With Mask"
   ]
  },
  {
   "cell_type": "code",
   "execution_count": null,
   "id": "27c0a181",
   "metadata": {},
   "outputs": [
    {
     "name": "stdout",
     "output_type": "stream",
     "text": [
      "numbers greater than 5 : \n",
      " [20 25  9 21 15 16 16 14  8 22 11  8  9]\n",
      "numbers greater than 10 : \n",
      " [20 25 21 15 16 16 14 22 11]\n"
     ]
    }
   ],
   "source": [
    "mask_greater_than_5 = numbers > 5\n",
    "mask_greater_than_10 = numbers > 10\n",
    "\n",
    "print(\"numbers greater than 5 : \\n\", numbers[mask_greater_than_5])\n",
    "print(\"numbers greater than 10 : \\n\", numbers[mask_greater_than_10])\n"
   ]
  },
  {
   "cell_type": "markdown",
   "id": "442a4dcf",
   "metadata": {},
   "source": [
    "### Fancy Indexing VS np.where()"
   ]
  },
  {
   "cell_type": "code",
   "execution_count": null,
   "id": "fed43080",
   "metadata": {},
   "outputs": [
    {
     "name": "stdout",
     "output_type": "stream",
     "text": [
      "Number of indices [0, 4, 7] : \n",
      " [1 5 8]\n",
      "Where Result : \n",
      " [ 6  7  8  9 10]\n"
     ]
    }
   ],
   "source": [
    "numbers = np.array([1, 2, 3, 4, 5, 6, 7, 8, 9, 10])\n",
    "indics = [0, 4, 7]\n",
    "print(\"Number of indices [0, 4, 7] : \\n\", numbers[indics])\n",
    "\n",
    "\n",
    "Where_Result = np.where(numbers > 5)\n",
    "print(\"Where Result : \\n\", numbers[Where_Result])\n"
   ]
  },
  {
   "cell_type": "code",
   "execution_count": null,
   "id": "38c0e398",
   "metadata": {},
   "outputs": [
    {
     "name": "stdout",
     "output_type": "stream",
     "text": [
      "Conditional Array : \n",
      " ['Not>5' 'Not>5' 'Not>5' 'Not>5' 'Not>5' '6' '7' '8' '9' '10']\n"
     ]
    }
   ],
   "source": [
    "Conditional_array = np.where(numbers > 5, numbers, \"Not>5\")\n",
    "print(\"Conditional Array : \\n\", Conditional_array)\n"
   ]
  },
  {
   "cell_type": "markdown",
   "id": "b6141d44",
   "metadata": {},
   "source": [
    "### Adding and Removing Data"
   ]
  },
  {
   "cell_type": "code",
   "execution_count": null,
   "id": "84bbadb6",
   "metadata": {},
   "outputs": [
    {
     "name": "stdout",
     "output_type": "stream",
     "text": [
      "Combined array : \n",
      " [ 1  2  3  4  5  6  7  8  9 10]\n"
     ]
    }
   ],
   "source": [
    "array_1 = np.array(\n",
    "    [\n",
    "        1,\n",
    "        2,\n",
    "        3,\n",
    "        4,\n",
    "        5,\n",
    "    ]\n",
    ")\n",
    "array_2 = np.array([6, 7, 8, 9, 10])\n",
    "\n",
    "combined = np.concatenate((array_1, array_2))\n",
    "print(\"Combined array : \\n\", combined)\n"
   ]
  },
  {
   "cell_type": "markdown",
   "id": "e7492099",
   "metadata": {},
   "source": [
    "### Array Compatibility Check"
   ]
  },
  {
   "cell_type": "code",
   "execution_count": null,
   "id": "964d8d2a",
   "metadata": {},
   "outputs": [
    {
     "name": "stdout",
     "output_type": "stream",
     "text": [
      "Combined array : \n",
      " [[1 2 3]\n",
      " [4 5 6]\n",
      " [7 8 9]]\n"
     ]
    }
   ],
   "source": [
    "arr1 = np.array([1, 2, 3])\n",
    "arr2 = np.array([4, 5, 6])\n",
    "arr3 = np.array([7, 8, 9])\n",
    "\n",
    "\n",
    "if arr1.shape == arr2.shape == arr3.shape:\n",
    "    combined = np.stack((arr1, arr2, arr3))\n",
    "    print(\"Combined array : \\n\", combined)\n",
    "else:\n",
    "    print(\"All arrays should have same shape\", arr1.shape, arr2.shape, arr3.shape)\n"
   ]
  },
  {
   "cell_type": "markdown",
   "id": "ef5f18c2",
   "metadata": {},
   "source": [
    "### Adding new columns and rows "
   ]
  },
  {
   "cell_type": "code",
   "execution_count": null,
   "id": "fee8b361",
   "metadata": {},
   "outputs": [
    {
     "name": "stdout",
     "output_type": "stream",
     "text": [
      "Original array : \n",
      " [[1 2 3]\n",
      " [4 5 6]\n",
      " [7 8 9]]\n",
      "new array with new row : \n",
      " [[ 1  2  3]\n",
      " [ 4  5  6]\n",
      " [ 7  8  9]\n",
      " [10 11 12]]\n",
      "new array with new col : \n",
      " [[ 1  2  3 13]\n",
      " [ 4  5  6 14]\n",
      " [ 7  8  9 15]]\n"
     ]
    }
   ],
   "source": [
    "original_array = np.array([[1, 2, 3], [4, 5, 6], [7, 8, 9]])\n",
    "\n",
    "print(\"Original array : \\n\", original_array)\n",
    "\n",
    "new_row = np.array([10, 11, 12])\n",
    "new_array = np.vstack((original_array, new_row))\n",
    "print(\"new array with new row : \\n\", new_array)\n",
    "\n",
    "new_col = np.array([[13], [14], [15]])\n",
    "new_array = np.hstack((original_array, new_col))\n",
    "print(\"new array with new col : \\n\", new_array)\n"
   ]
  },
  {
   "cell_type": "markdown",
   "id": "df387847",
   "metadata": {},
   "source": [
    "### Delete element from an array "
   ]
  },
  {
   "cell_type": "code",
   "execution_count": null,
   "id": "4174f207",
   "metadata": {},
   "outputs": [
    {
     "name": "stdout",
     "output_type": "stream",
     "text": [
      "Original array : \n",
      " [ 1  2  3  4  5  6  7  8  9 10]\n",
      "Deleted array : \n",
      " [ 1  2  3  5  6  7  8  9 10]\n",
      "Deleted array : \n",
      " [ 1  3  4  6  7  9 10]\n",
      "Deleted array : \n",
      " [ 1  2  6  7  8  9 10]\n"
     ]
    }
   ],
   "source": [
    "arr = np.array([1, 2, 3, 4, 5, 6, 7, 8, 9, 10])\n",
    "\n",
    "print(\"Original array : \\n\", arr)\n",
    "\n",
    "deleted = np.delete(arr, 3)\n",
    "print(\"Deleted array : \\n\", deleted)\n",
    "\n",
    "deleted = np.delete(arr, [1, 4, 7])\n",
    "print(\"Deleted array : \\n\", deleted)\n",
    "\n",
    "deleted = np.delete(arr, np.s_[2:5])\n",
    "print(\"Deleted array : \\n\", deleted)\n"
   ]
  }
 ],
 "metadata": {
  "kernelspec": {
   "display_name": ".venv",
   "language": "python",
   "name": "python3"
  },
  "language_info": {
   "codemirror_mode": {
    "name": "ipython",
    "version": 3
   },
   "file_extension": ".py",
   "mimetype": "text/x-python",
   "name": "python",
   "nbconvert_exporter": "python",
   "pygments_lexer": "ipython3",
   "version": "3.12.7"
  }
 },
 "nbformat": 4,
 "nbformat_minor": 5
}
