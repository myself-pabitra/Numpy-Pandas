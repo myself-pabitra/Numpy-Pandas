{
 "cells": [
  {
   "cell_type": "markdown",
   "id": "26f362e0",
   "metadata": {},
   "source": [
    "## Advance Opetaions with Buisness Examples \n"
   ]
  },
  {
   "cell_type": "code",
   "execution_count": null,
   "id": "4857859f",
   "metadata": {},
   "outputs": [],
   "source": [
    "import numpy as np\n",
    "import matplotlib.pyplot as plt\n"
   ]
  },
  {
   "cell_type": "code",
   "execution_count": null,
   "id": "e4af180f",
   "metadata": {},
   "outputs": [],
   "source": [
    "# Data Starcture [resturant_id,2021,2022,2023,2024]\n",
    "sales_data = np.array(\n",
    "    [\n",
    "        [1, 150000, 180000, 220000, 250000],  # Paradise Biriyani\n",
    "        [2, 100000, 120000, 140000, 160000],  # Biriyani Express\n",
    "        [3, 80000, 90000, 100000, 110000],  # pizza Hub\n",
    "        [4, 180000, 210000, 240000, 360000],  # Burger King\n",
    "        [5, 160000, 167000, 656000, 237000],\n",
    "    ]  # KFC\n",
    ")\n",
    "\n",
    "\n",
    "print(\"================= Zomato Sales Data =================\")\n",
    "print(\"Sales Data shape :\", sales_data.shape)\n",
    "\n",
    "print(\"First three sales data : \\n\", sales_data[:3])\n"
   ]
  },
  {
   "cell_type": "code",
   "execution_count": null,
   "id": "616089a6",
   "metadata": {},
   "outputs": [],
   "source": [
    "# Total sales Per Year\n",
    "total_sales_per_year = np.sum(sales_data[:, 1:], axis=0)\n",
    "print(\"Total sales per year : \\n\", total_sales_per_year)\n",
    "\n",
    "# Total sales per resturant\n",
    "total_sales_per_resturant = np.sum(sales_data[:, 1:], axis=1)\n",
    "print(\"Total sales per resturant : \\n\", total_sales_per_resturant)\n",
    "\n",
    "# Minimum sales per resturant\n",
    "minimum_sales_per_resturant = np.min(sales_data[:, 1:], axis=1)\n",
    "print(\"minimum_sales_per_resturant : \\n\", minimum_sales_per_resturant)\n",
    "\n",
    "# Maximum sales per year\n",
    "maximum_sales_year_wise = np.max(sales_data[:, 1:], axis=0)\n",
    "print(\"maximum_sales_year_wise : \\n\", maximum_sales_year_wise)\n",
    "\n",
    "# Resturant with cumulative sales\n",
    "cumulative_sales = np.cumsum(sales_data[:, 1:], axis=1)\n",
    "print(\"cumulative_sales : \\n\", cumulative_sales)\n"
   ]
  },
  {
   "cell_type": "code",
   "execution_count": null,
   "id": "ce484311",
   "metadata": {},
   "outputs": [
    {
     "name": "stdout",
     "output_type": "stream",
     "text": [
      "['PARADISE BIRIYANI' 'BIRIYANI EXPRESS' 'PIZZA HUB' 'BURGER KING' 'KFC']\n"
     ]
    }
   ],
   "source": [
    "restraunt_types = np.array(\n",
    "    [\"Paradise Biriyani\", \"Biriyani Express\", \"Pizza Hub\", \"Burger King\", \"KFC\"]\n",
    ")\n",
    "\n",
    "\n",
    "vectorized_upper = np.vectorize(str.upper)\n",
    "#  This will convert the string to uppercase by using vectorization with all the elements of the array\n",
    "restraunt_types_upper = vectorized_upper(restraunt_types)\n",
    "print(restraunt_types_upper)\n"
   ]
  }
 ],
 "metadata": {
  "kernelspec": {
   "display_name": ".venv",
   "language": "python",
   "name": "python3"
  },
  "language_info": {
   "codemirror_mode": {
    "name": "ipython",
    "version": 3
   },
   "file_extension": ".py",
   "mimetype": "text/x-python",
   "name": "python",
   "nbconvert_exporter": "python",
   "pygments_lexer": "ipython3",
   "version": "3.12.7"
  }
 },
 "nbformat": 4,
 "nbformat_minor": 5
}
