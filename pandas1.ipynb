{
 "cells": [
  {
   "cell_type": "markdown",
   "id": "6e19ea71",
   "metadata": {},
   "source": [
    "# Introduction to Pandas"
   ]
  },
  {
   "cell_type": "code",
   "execution_count": null,
   "id": "5544f61f",
   "metadata": {},
   "outputs": [],
   "source": [
    "import pandas as pd\n"
   ]
  },
  {
   "cell_type": "code",
   "execution_count": null,
   "id": "c225347c",
   "metadata": {
    "jupyter": {
     "is_executing": true
    }
   },
   "outputs": [],
   "source": [
    "df = pd.DataFrame([[1, 2, 3], [4, 5, 6], [7, 8, 9]], columns=[\"a\", \"b\", \"c\"])\n",
    "df.head()\n",
    "df.tail(1)\n",
    "# df.info()\n",
    "# df.describe()\n",
    "df.index\n"
   ]
  },
  {
   "cell_type": "markdown",
   "id": "c6993eff",
   "metadata": {},
   "source": [
    "## Loading In DataFramses From Files"
   ]
  },
  {
   "cell_type": "code",
   "execution_count": null,
   "id": "ea1f8465",
   "metadata": {},
   "outputs": [],
   "source": [
    "# https://raw.githubusercontent.com/datasciencedojo/datasets/master/titanic.csv\n",
    "#  Reading data from csv file\n",
    "coffee = pd.read_csv(\"./files/coffee.csv\")\n",
    "\n",
    "# Display first 5 rows\n",
    "coffee.head(5)\n",
    "\n",
    "# Display last 5 rows\n",
    "coffee.tail(5)\n",
    "\n",
    "# Display random 5 rows\n",
    "coffee.sample(5)\n",
    "\n",
    "# Display columns\n",
    "coffee.columns\n",
    "\n",
    "# Convert columns to list\n",
    "coffee.columns.tolist()\n",
    "\n",
    "# convert DataFrame to numpy array\n",
    "coffee_array = coffee.to_numpy()\n",
    "\n",
    "# convert numpy array to DataFrame\n",
    "pd.DataFrame(coffee_array)\n",
    "\n",
    "coffee\n"
   ]
  },
  {
   "cell_type": "code",
   "execution_count": null,
   "id": "a40f3c95",
   "metadata": {},
   "outputs": [],
   "source": [
    "# Acess data of a specific Location or Row\n",
    "coffee.iloc[2]\n",
    "\n",
    "coffee.loc[12:13]\n",
    "coffee.loc[12:13, [\"Coffee Type\", \"Units Sold\"]]\n"
   ]
  },
  {
   "cell_type": "code",
   "execution_count": null,
   "id": "31fd77d7",
   "metadata": {},
   "outputs": [],
   "source": [
    "coffee.loc[13, \"Units Sold\"] = 100\n",
    "\n",
    "coffee\n"
   ]
  },
  {
   "cell_type": "code",
   "execution_count": null,
   "id": "9b876b45",
   "metadata": {},
   "outputs": [],
   "source": [
    "for index, row in coffee.iterrows():\n",
    "    print(index)\n",
    "    print(row[[\"Day\", \"Units Sold\"]])\n",
    "    print(\"===========\")\n"
   ]
  },
  {
   "cell_type": "code",
   "execution_count": null,
   "id": "f2069e87",
   "metadata": {},
   "outputs": [],
   "source": [
    "bios = pd.read_csv(\"./files/bios.csv\")\n"
   ]
  },
  {
   "cell_type": "code",
   "execution_count": 94,
   "id": "cc02a989",
   "metadata": {},
   "outputs": [],
   "source": [
    "bios.tail()\n",
    "\n",
    "# sort values by a specific column\n",
    "bios.sort_values(\"height_cm\", ascending=False)\n",
    "\n",
    "# get rows which has height more than 220 cm\n",
    "bios.loc[bios[\"height_cm\"] > 220]\n",
    "\n",
    "# get rows which has height more than 220 cm and weight more than 110 kg\n",
    "bios.loc[\n",
    "    (bios[\"height_cm\"] > 220)\n",
    "    & (bios[\"weight_kg\"] > 110)\n",
    "    & (bios[\"born_country\"] == \"GER\")\n",
    "]\n",
    "\n",
    "bios.loc[(\n",
    "    bios[\"born_country\"] == \"IND\"\n",
    ")& (bios[\"born_city\"] == \"Kolkata (Calcutta)\") & (bios[\"died_date\"].notna())].to_excel(\"filtered_bios.xlsx\", index=False)\n",
    "\n",
    "\n",
    "\n"
   ]
  },
  {
   "cell_type": "code",
   "execution_count": null,
   "id": "cd452178",
   "metadata": {},
   "outputs": [],
   "source": []
  }
 ],
 "metadata": {
  "kernelspec": {
   "display_name": ".venv",
   "language": "python",
   "name": "python3"
  },
  "language_info": {
   "codemirror_mode": {
    "name": "ipython",
    "version": 3
   },
   "file_extension": ".py",
   "mimetype": "text/x-python",
   "name": "python",
   "nbconvert_exporter": "python",
   "pygments_lexer": "ipython3",
   "version": "3.12.7"
  }
 },
 "nbformat": 4,
 "nbformat_minor": 5
}
